{
 "cells": [
  {
   "cell_type": "code",
   "execution_count": null,
   "id": "74317a1e",
   "metadata": {},
   "outputs": [],
   "source": [
    "import pandas as pd\n",
    "import numpy as np\n",
    "import datetime as dt\n",
    "import matplotlib.pyplot as plt\n",
    "import statsmodels.api as sm\n",
    "from sklearn.linear_model import LinearRegression\n",
    "\n",
    "import sys\n",
    "import os\n",
    "\n",
    "project_root = os.path.abspath(os.path.join(os.getcwd(), '..'))\n",
    "src_path = os.path.join(project_root, 'src')\n",
    "\n",
    "if src_path not in sys.path:\n",
    "    sys.path.append(src_path)"
   ]
  },
  {
   "cell_type": "code",
   "execution_count": 8,
   "id": "3f5c960a",
   "metadata": {},
   "outputs": [],
   "source": [
    "from utils import load_data, transform_data\n",
    "from data_vis import plot_candlestick, plot_time_series, plot_normalized_pair, plot_series\n",
    "from comp_utils import find_best_pair_for_ticker, get_pairs, get_residuals"
   ]
  },
  {
   "cell_type": "code",
   "execution_count": 9,
   "id": "769488e7",
   "metadata": {},
   "outputs": [],
   "source": [
    "btc_data = transform_data(load_data(\"BTCUSDT\"))\n",
    "eth_data = transform_data(load_data(\"ETHUSDT\"))\n",
    "ada_data = transform_data(load_data(\"ADAUSDT\"))\n",
    "bnb_data = transform_data(load_data(\"BNBUSDT\"))\n",
    "doge_data = transform_data(load_data(\"DOGEUSDT\"))\n",
    "link_data = transform_data(load_data(\"LINKUSDT\"))\n",
    "sol_data = transform_data(load_data(\"SOLUSDT\"))\n",
    "wbtc_data = transform_data(load_data(\"WBTC\"))\n",
    "xrp_data = transform_data(load_data(\"XRPUSDT\"))\n",
    "usdc_data = transform_data(load_data(\"USDCUSDT\"))\n",
    "avax_data = transform_data(load_data(\"AVAXUSDT\"))\n",
    "bch_data = transform_data(load_data(\"BCHUSDT\"))\n",
    "dai_data = transform_data(load_data(\"DAIUSDT\"))\n",
    "ltc_data = transform_data(load_data(\"LTCUSDT\"))\n",
    "xlm_data = transform_data(load_data(\"XLMUSDT\"))"
   ]
  },
  {
   "cell_type": "code",
   "execution_count": 10,
   "id": "72a2c703",
   "metadata": {},
   "outputs": [],
   "source": [
    "data_dict = {\n",
    "    \"BTCUSDT\": btc_data, \n",
    "    \"ETHUSDT\": eth_data, \n",
    "    \"ADAUSDT\": ada_data, \n",
    "    \"BNBUSDT\": bnb_data, \n",
    "    \"DOGEUSDT\": doge_data, \n",
    "    \"LINKUSDT\": link_data,\n",
    "    \"SOLUSDT\": sol_data, \n",
    "    \"WBTC\": wbtc_data, \n",
    "    \"XRPUSDT\": xrp_data, \n",
    "    \"BCHUSDT\": bch_data,\n",
    "    \"DAIUSDT\": dai_data,\n",
    "    \"LTCUSDT\": ltc_data,\n",
    "    \"XLMUSDT\": xlm_data,\n",
    "    \"AVAXUSDT\": avax_data,\n",
    "}"
   ]
  },
  {
   "cell_type": "code",
   "execution_count": 12,
   "id": "f699f3d9",
   "metadata": {},
   "outputs": [],
   "source": [
    "X, Y = btc_data['mid'], eth_data['mid']"
   ]
  },
  {
   "cell_type": "code",
   "execution_count": null,
   "id": "28838088",
   "metadata": {},
   "outputs": [],
   "source": [
    "def rolling_regression(X, Y, window=60):\n",
    "    alphas = []\n",
    "    betas = []\n",
    "    \n",
    "    for i in range(len(X)):\n",
    "        if i < window:\n",
    "            alphas.append(np.nan)\n",
    "            betas.append(np.nan)\n",
    "            continue\n",
    "        x_window = X[i-window:i].values.reshape(-1, 1)\n",
    "        y_window = Y[i-window:i].values\n",
    "        model = LinearRegression().fit(x_window, y_window)\n",
    "        alphas.append(model.intercept_)\n",
    "        betas.append(model.coef_[0])\n",
    "    \n",
    "    return pd.Series(alphas, index=X.index), pd.Series(betas, index=X.index)\n",
    "\n",
    "alpha, beta = rolling_regression(X, Y, window=60)\n"
   ]
  }
 ],
 "metadata": {
  "kernelspec": {
   "display_name": "base",
   "language": "python",
   "name": "python3"
  },
  "language_info": {
   "codemirror_mode": {
    "name": "ipython",
    "version": 3
   },
   "file_extension": ".py",
   "mimetype": "text/x-python",
   "name": "python",
   "nbconvert_exporter": "python",
   "pygments_lexer": "ipython3",
   "version": "3.12.7"
  }
 },
 "nbformat": 4,
 "nbformat_minor": 5
}
